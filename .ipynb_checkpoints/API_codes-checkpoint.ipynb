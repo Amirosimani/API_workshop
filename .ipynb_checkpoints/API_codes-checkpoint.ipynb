{
 "cells": [
  {
   "cell_type": "markdown",
   "metadata": {},
   "source": [
    "# API Requests"
   ]
  },
  {
   "cell_type": "code",
   "execution_count": null,
   "metadata": {},
   "outputs": [],
   "source": [
    "# !pip install requests\n",
    "import requests"
   ]
  },
  {
   "cell_type": "code",
   "execution_count": null,
   "metadata": {},
   "outputs": [],
   "source": [
    "KEY = 'INSERT_YOUR_KEY_HERE' \n",
    "\n",
    "# Set base url path\n",
    "base_url = 'http://api.nytimes.com/svc/search/v2/articlesearch.json?api-key={}'.format(KEY)"
   ]
  },
  {
   "cell_type": "markdown",
   "metadata": {},
   "source": [
    "# HTTP Status Codes"
   ]
  },
  {
   "cell_type": "code",
   "execution_count": null,
   "metadata": {},
   "outputs": [],
   "source": [
    "# Send a request\n",
    "response = requests.get(base_url)\n",
    "\n",
    "# Print the status code of the response.\n",
    "print(response.status_code)"
   ]
  },
  {
   "cell_type": "code",
   "execution_count": null,
   "metadata": {},
   "outputs": [],
   "source": [
    "# Trying a wrong URL\n",
    "new_url = base_url + '?abc'\n",
    "new_response = requests.get(new_url)\n",
    "\n",
    "print(new_response.status_code)"
   ]
  },
  {
   "cell_type": "markdown",
   "metadata": {},
   "source": [
    "# Query Parameters"
   ]
  },
  {
   "cell_type": "code",
   "execution_count": null,
   "metadata": {},
   "outputs": [],
   "source": [
    "# Set up the parameters we want to pass to the API.\n",
    "parameters = {\"q\": ['trump'], 'fl': ['byline', 'pub_date', 'headline'],\n",
    "              'sort': 'newest',\n",
    "              'begin_date': '20180101', 'end_date': '20180201',\n",
    "             }\n",
    "\n",
    "\n",
    "# Make a get request with the parameters.\n",
    "response = requests.get(base_url, params=parameters)\n",
    "\n",
    "# Print the content of the response (the data the server returned)\n",
    "print(response.status_code)"
   ]
  },
  {
   "cell_type": "code",
   "execution_count": null,
   "metadata": {},
   "outputs": [],
   "source": [
    "# Check the retrieved information\n",
    "print(response.headers)\n",
    "# print(response.content)"
   ]
  },
  {
   "cell_type": "markdown",
   "metadata": {},
   "source": [
    "# Working with Jason"
   ]
  },
  {
   "cell_type": "code",
   "execution_count": null,
   "metadata": {},
   "outputs": [],
   "source": [
    "# Convert response to JSON\n",
    "data = response.json()"
   ]
  },
  {
   "cell_type": "code",
   "execution_count": null,
   "metadata": {},
   "outputs": [],
   "source": [
    "# Check the first article\n",
    "data['response']['docs'][0]"
   ]
  },
  {
   "cell_type": "code",
   "execution_count": null,
   "metadata": {},
   "outputs": [],
   "source": [
    "# Save JSON to local drive\n",
    "import json\n",
    "with open('data.json', 'w') as outfile:\n",
    "    json.dump(data, outfile)"
   ]
  },
  {
   "cell_type": "code",
   "execution_count": null,
   "metadata": {},
   "outputs": [],
   "source": [
    "# load son file from local to python\n",
    "with open('./local_file_on_my_laptop.json.json') as infile:\n",
    "    d = json.load(infile)    "
   ]
  },
  {
   "cell_type": "markdown",
   "metadata": {},
   "source": [
    "# Json to CSV"
   ]
  },
  {
   "cell_type": "code",
   "execution_count": 1,
   "metadata": {},
   "outputs": [
    {
     "ename": "NameError",
     "evalue": "name 'data' is not defined",
     "output_type": "error",
     "traceback": [
      "\u001b[0;31m---------------------------------------------------------------------------\u001b[0m",
      "\u001b[0;31mNameError\u001b[0m                                 Traceback (most recent call last)",
      "\u001b[0;32m<ipython-input-1-8185a0bbdcc8>\u001b[0m in \u001b[0;36m<module>\u001b[0;34m()\u001b[0m\n\u001b[1;32m     30\u001b[0m \u001b[0;34m\u001b[0m\u001b[0m\n\u001b[1;32m     31\u001b[0m \u001b[0;34m\u001b[0m\u001b[0m\n\u001b[0;32m---> 32\u001b[0;31m \u001b[0mcsv_data\u001b[0m \u001b[0;34m=\u001b[0m \u001b[0mjson_to_csv\u001b[0m\u001b[0;34m(\u001b[0m\u001b[0mdata\u001b[0m\u001b[0;34m)\u001b[0m\u001b[0;34m\u001b[0m\u001b[0m\n\u001b[0m",
      "\u001b[0;31mNameError\u001b[0m: name 'data' is not defined"
     ]
    }
   ],
   "source": [
    "import pandas as pd\n",
    "\n",
    "def json_to_csv(json_file):\n",
    "    \"\"\" \n",
    "    Function to take json file and return pandas datatable\n",
    "    \"\"\"\n",
    "    # Get the useful part\n",
    "    articles = json_file['response']['docs']\n",
    "\n",
    "    # Find the column titles\n",
    "    cols = list(articles[0].keys())\n",
    "\n",
    "    # Creating new list\n",
    "    row_list = []\n",
    "\n",
    "    # Iterating through all articles and get their respective column value for \n",
    "    for item in articles:\n",
    "        row = []\n",
    "        for col in cols:\n",
    "            if col != 'headline':\n",
    "                row.append(item[col])\n",
    "            else:\n",
    "                row.append(item[col]['main'])\n",
    "        row_list.append(row)\n",
    "\n",
    "    # Creat a dataframe\n",
    "    df = pd.DataFrame(row_list, columns=cols)\n",
    "    \n",
    "    return df\n",
    "\n",
    "\n",
    "df = json_to_csv(data)"
   ]
  },
  {
   "cell_type": "code",
   "execution_count": null,
   "metadata": {},
   "outputs": [],
   "source": [
    "# save csv to local drive\n",
    "df.to_csv('./local_path_for_csv.csv', sep=',')"
   ]
  }
 ],
 "metadata": {
  "kernelspec": {
   "display_name": "Python 3",
   "language": "python",
   "name": "python3"
  },
  "language_info": {
   "codemirror_mode": {
    "name": "ipython",
    "version": 3
   },
   "file_extension": ".py",
   "mimetype": "text/x-python",
   "name": "python",
   "nbconvert_exporter": "python",
   "pygments_lexer": "ipython3",
   "version": "3.6.0"
  }
 },
 "nbformat": 4,
 "nbformat_minor": 2
}
