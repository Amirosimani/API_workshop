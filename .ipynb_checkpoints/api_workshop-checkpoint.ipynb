{
 "cells": [
  {
   "cell_type": "code",
   "execution_count": null,
   "metadata": {
    "slideshow": {
     "slide_type": "skip"
    }
   },
   "outputs": [],
   "source": [
    "#jupyter nbconvert api_workshop.ipynb --to slides --post serve"
   ]
  },
  {
   "cell_type": "markdown",
   "metadata": {
    "slideshow": {
     "slide_type": "slide"
    }
   },
   "source": [
    "# Working with Open Data - Intro to APIs\n",
    "\n",
    "\n",
    "### http://bit.ly/2nMa0Pn\n",
    "\n",
    "\n",
    "\n",
    "<br/>\n",
    "<br/>\n",
    "\n",
    "### Amir Imani / @amiros_imani"
   ]
  },
  {
   "cell_type": "markdown",
   "metadata": {
    "slideshow": {
     "slide_type": "slide"
    }
   },
   "source": [
    "## What is API?\n",
    "\n",
    "<img src=\"./images/api-explained.png\">\n",
    "\n",
    "source: https://www.humcommerce.com"
   ]
  },
  {
   "cell_type": "markdown",
   "metadata": {
    "slideshow": {
     "slide_type": "notes"
    }
   },
   "source": [
    "Application Program Interfaces, or APIs, are commonly used to retrieve data from remote websites. Sites like Twitter, and Facebook  offer certain data through their APIs. To use an API, you make a request to a remote web server, and retrieve the data you need.\n",
    "\n",
    "+++++++++++++++++++++++++++++++++++++++++++++++++++\n",
    "\n",
    "An API, or Application Program Interface, makes it easy for developers to integrate one app with another. \n",
    "They expose some of a program's inner workings in a limited way.\n",
    "\n",
    "You can use APIs to get information from other programs or to automate things you normally do in your web browser. Sometimes you can use APIs to do things you just can't do any other way.\n",
    "\n",
    "you're comfortable with Python's syntax, structure, and some built-in functions."
   ]
  },
  {
   "cell_type": "markdown",
   "metadata": {
    "slideshow": {
     "slide_type": "slide"
    }
   },
   "source": [
    "# Why API matters?"
   ]
  },
  {
   "cell_type": "markdown",
   "metadata": {
    "slideshow": {
     "slide_type": "subslide"
    }
   },
   "source": [
    "- The data is changing quickly.\n",
    "\n",
    "- You want a small piece of a much larger set of data.\n",
    "\n",
    "- There is repeated computation involved. "
   ]
  },
  {
   "cell_type": "markdown",
   "metadata": {
    "slideshow": {
     "slide_type": "notes"
    }
   },
   "source": [
    "- An example of this is stock price data. It doesn't really make sense to regenerate a dataset and download it every minute -- this will take a lot of bandwidth, and be pretty slow.\n",
    "\n",
    "- Reddit comments are one example. What if you want to just pull your own comments on Reddit? It doesn't make much sense to download the entire Reddit database, then filter just your own comments.\n",
    "\n",
    "- Spotify has an API that can tell you the genre of a piece of music. You could theoretically create your own classifier, and use it to categorize music, but you'll never have as much data as Spotify does."
   ]
  },
  {
   "cell_type": "markdown",
   "metadata": {
    "slideshow": {
     "slide_type": "slide"
    }
   },
   "source": [
    "<img src=\"./images/nyt.png\">\n",
    "\n",
    "<br/>\n",
    "\n",
    "\n",
    "Request a key from https://developer.nytimes.com"
   ]
  },
  {
   "cell_type": "code",
   "execution_count": 1,
   "metadata": {
    "slideshow": {
     "slide_type": "subslide"
    }
   },
   "outputs": [],
   "source": [
    "KEY = '03ad3061eb13451d84af8c1eb86474f2'"
   ]
  },
  {
   "cell_type": "markdown",
   "metadata": {
    "slideshow": {
     "slide_type": "slide"
    }
   },
   "source": [
    "# API Requests"
   ]
  },
  {
   "cell_type": "markdown",
   "metadata": {
    "slideshow": {
     "slide_type": "notes"
    }
   },
   "source": [
    "APIs are hosted on web servers. When you type www.google.com in your browser's address bar, your computer is actually asking the www.google.com server for a webpage, which it then returns to your browser.\n",
    "\n",
    "APIs work much the same way, except instead of your web browser asking for a webpage, your program asks for data. This data is usually returned in JSON format.\n",
    "\n",
    "In order to get the data, we make a request to a webserver. The server then replies with our data. In Python, we'll use the requests library to do this.\n",
    "\n",
    "There are many different types of requests. The most commonly used one, a GET request, is used to retrieve data.\n",
    "\n",
    "We can use a simple GET request to retrieve information fomr API\n"
   ]
  },
  {
   "cell_type": "markdown",
   "metadata": {
    "slideshow": {
     "slide_type": "slide"
    }
   },
   "source": [
    "#  Main Questions to Ask\n",
    "\n",
    "- What does a request look like? \n",
    "- What does a response look like? \n",
    "- What goes into the request or response headers? *"
   ]
  },
  {
   "cell_type": "code",
   "execution_count": 3,
   "metadata": {
    "slideshow": {
     "slide_type": "subslide"
    }
   },
   "outputs": [],
   "source": [
    "# !pip install requests\n",
    "import requests\n",
    "\n",
    "# Set base url path\n",
    "base_url = 'http://api.nytimes.com/svc/search/v2/articlesearch.json?api-key={}'.format(KEY)\n",
    "\n",
    "# Send a request\n",
    "response = requests.get(base_url)"
   ]
  },
  {
   "cell_type": "code",
   "execution_count": 4,
   "metadata": {
    "slideshow": {
     "slide_type": "subslide"
    }
   },
   "outputs": [
    {
     "name": "stdout",
     "output_type": "stream",
     "text": [
      "200\n"
     ]
    }
   ],
   "source": [
    "# Print the status code of the response.\n",
    "print(response.status_code)"
   ]
  },
  {
   "cell_type": "markdown",
   "metadata": {
    "slideshow": {
     "slide_type": "subslide"
    }
   },
   "source": [
    "<img src=\"./images/status_codes.jpg\">"
   ]
  },
  {
   "cell_type": "markdown",
   "metadata": {
    "slideshow": {
     "slide_type": "notes"
    }
   },
   "source": [
    "The 200 series means \"success\" — your request was valid, and the response is what logically follows from it.\n",
    "The 400 series means \"bad request — something was wrong with the request, so the server did not process it as you wanted it to. Common causes for HTTP 400-level errors are badly-formatted requests and authentication problems.\n",
    "The 500 series means \"server error\" — your request may have been OK, but the server couldn't give you a good response right now for reasons out of your control. These should be rare, but you need to be aware of the possibility so you can handle them in your code."
   ]
  },
  {
   "cell_type": "code",
   "execution_count": 6,
   "metadata": {
    "slideshow": {
     "slide_type": "subslide"
    }
   },
   "outputs": [
    {
     "name": "stdout",
     "output_type": "stream",
     "text": [
      "403\n"
     ]
    }
   ],
   "source": [
    "# Trying a wrong URL\n",
    "new_url = base_url + '?abc'\n",
    "new_response = requests.get(new_url)\n",
    "\n",
    "print(new_response.status_code)"
   ]
  },
  {
   "cell_type": "markdown",
   "metadata": {
    "slideshow": {
     "slide_type": "notes"
    }
   },
   "source": [
    "\n",
    "200 -- everything went okay, and the result has been returned (if any)\n",
    "\n",
    "301 -- the server is redirecting you to a different endpoint. This can happen when a company switches domain names, or an endpoint name is changed.\n",
    "\n",
    "401 -- the server thinks you're not authenticated. This happens when you don't send the right credentials to access an API (we'll talk about authentication in a later post).\n",
    "\n",
    "400 -- the server thinks you made a bad request. This can happen when you don't send along the right data, among other things.\n",
    "\n",
    "403 -- the resource you're trying to access is forbidden -- you don't have the right permissions to see it.\n",
    "\n",
    "404 -- the resource you tried to access wasn't found on the server.§"
   ]
  },
  {
   "cell_type": "markdown",
   "metadata": {
    "slideshow": {
     "slide_type": "slide"
    }
   },
   "source": [
    "# Query Parameters\n",
    "\n",
    "\n",
    "\n",
    "\n",
    "\n",
    "Availble at API Documentation: http://nyti.ms/2EcCiNc"
   ]
  },
  {
   "cell_type": "code",
   "execution_count": 24,
   "metadata": {
    "slideshow": {
     "slide_type": "subslide"
    }
   },
   "outputs": [
    {
     "name": "stdout",
     "output_type": "stream",
     "text": [
      "200\n"
     ]
    }
   ],
   "source": [
    "# Set up the parameters we want to pass to the API.\n",
    "parameters = {\"q\": ['trump+russia'], 'fl': ['byline', 'pub_date', 'headline'],\n",
    "              'sort': 'newest',\n",
    "              'begin_date': '20180101', 'end_date': '20180201',\n",
    "             }\n",
    "\n",
    "\n",
    "# Make a get request with the parameters.\n",
    "response = requests.get(base_url, params=parameters)\n",
    "\n",
    "# Print the content of the response (the data the server returned)\n",
    "print(response.status_code)"
   ]
  },
  {
   "cell_type": "markdown",
   "metadata": {
    "slideshow": {
     "slide_type": "slide"
    }
   },
   "source": [
    "#  Main Questions to Ask\n",
    "\n",
    "- What does a request look like? \n",
    "- What does a response look like? \n",
    "- What goes into the request or response headers? *"
   ]
  },
  {
   "cell_type": "code",
   "execution_count": 25,
   "metadata": {
    "slideshow": {
     "slide_type": "subslide"
    }
   },
   "outputs": [
    {
     "name": "stdout",
     "output_type": "stream",
     "text": [
      "b'{\"status\":\"OK\",\"copyright\":\"Copyright (c) 2018 The New York Times Company. All Rights Reserved.\",\"response\":{\"docs\":[{\"headline\":{\"main\":\"Trump, Brenda Fitzgerald, Virginia: Your Wednesday Evening Briefing\",\"kicker\":null,\"content_kicker\":null,\"print_headline\":\"Your Evening Briefing\",\"name\":null,\"seo\":null,\"sub\":null},\"pub_date\":\"2018-01-31T22:57:59+0000\",\"byline\":{\"original\":\"By KAREN ZRAICK and DAVID SCULL\",\"person\":[{\"firstname\":\"Karen\",\"middlename\":null,\"lastname\":\"ZRAICK\",\"qualifier\":null,\"title\":null,\"role\":\"reported\",\"organization\":\"\",\"rank\":1},{\"firstname\":\"David\",\"middlename\":null,\"lastname\":\"SCULL\",\"qualifier\":null,\"title\":null,\"role\":\"reported\",\"organization\":\"\",\"rank\":2}],\"organization\":null},\"score\":0.10885632},{\"headline\":{\"main\":\"Syria\\'s Kurds Push US to Stop Turkish Assault on Key Enclave\",\"kicker\":null,\"content_kicker\":null,\"print_headline\":\"Syria\\'s Kurds Push US to Stop Turkish Assault on Key Enclave\",\"name\":null,\"seo\":null,\"sub\":null},\"pub_date\":\"2018-01-31T22:24:34+0000\",\"byline\":{\"original\":\"By THE ASSOCIATED PRESS\",\"person\":[],\"organization\":\"THE ASSOCIATED PRESS\"},\"score\":0.13910355},{\"headline\":{\"main\":\"Trump Asked No. 2 Justice Department Official Where Russia Probe Was Heading: CNN\",\"kicker\":null,\"content_kicker\":null,\"print_headline\":\"Trump Asked No. 2 Justice Department Official Where Russia Probe Was Heading: CNN\",\"name\":null,\"seo\":null,\"sub\":null},\"pub_date\":\"2018-01-31T21:18:38+0000\",\"byline\":{\"original\":\"By REUTERS\",\"person\":[],\"organization\":\"REUTERS\"},\"score\":1.1794378},{\"headline\":{\"main\":\"House Republican Nunes Calls FBI Objections to Memo \\'Spurious\\'\",\"kicker\":null,\"content_kicker\":null,\"print_headline\":\"House Republican Nunes Calls FBI Objections to Memo \\'Spurious\\'\",\"name\":null,\"seo\":null,\"sub\":null},\"pub_date\":\"2018-01-31T20:33:42+0000\",\"byline\":{\"original\":\"By REUTERS\",\"person\":[],\"organization\":\"REUTERS\"},\"score\":0.34922355},{\"headline\":{\"main\":\"Trump\\xe2\\x80\\x99s Debt to Reagan\",\"kicker\":\"Op-Ed Contributor\",\"content_kicker\":\"Op-Ed Contributor\",\"print_headline\":\"Trump\\xe2\\x80\\x99s Debt to Reagan\",\"name\":null,\"seo\":null,\"sub\":null},\"pub_date\":\"2018-01-31T19:46:01+0000\",\"byline\":{\"original\":\"By CHARLES R. KESLER\",\"person\":[{\"firstname\":\"Charles\",\"middlename\":\"R.\",\"lastname\":\"KESLER\",\"qualifier\":null,\"title\":null,\"role\":\"reported\",\"organization\":\"\",\"rank\":1}],\"organization\":null},\"score\":0.24041903},{\"headline\":{\"main\":\"Right and Left React to Trump\\xe2\\x80\\x99s State of the Union Address\",\"kicker\":null,\"content_kicker\":null,\"print_headline\":\"Right and Left React to Trump\\xe2\\x80\\x99s State of the Union Address\",\"name\":null,\"seo\":null,\"sub\":null},\"pub_date\":\"2018-01-31T19:36:48+0000\",\"byline\":{\"original\":\"By ANNA DUBENKO\",\"person\":[{\"firstname\":\"Anna\",\"middlename\":null,\"lastname\":\"DUBENKO\",\"qualifier\":null,\"title\":null,\"role\":\"reported\",\"organization\":\"\",\"rank\":1}],\"organization\":null},\"score\":0.19757682},{\"headline\":{\"main\":\"Geoff Cameron\\xe2\\x80\\x99s Car-Pool Confessional\",\"kicker\":null,\"content_kicker\":null,\"print_headline\":\"He Has Words for Bruce Arena\",\"name\":null,\"seo\":null,\"sub\":null},\"pub_date\":\"2018-01-31T19:09:20+0000\",\"byline\":{\"original\":\"By MARC STEIN\",\"person\":[{\"firstname\":\"Marc\",\"middlename\":null,\"lastname\":\"STEIN\",\"qualifier\":null,\"title\":null,\"role\":\"reported\",\"organization\":\"\",\"rank\":1}],\"organization\":null},\"score\":0.07729989},{\"headline\":{\"main\":\"F.B.I. Condemns Push to Release Secret Republican Memo\",\"kicker\":null,\"content_kicker\":null,\"print_headline\":\"F.B.I. Denounces House G.O.P. Push On Secret Memo\",\"name\":null,\"seo\":null,\"sub\":null},\"pub_date\":\"2018-01-31T18:12:53+0000\",\"byline\":{\"original\":\"By ADAM GOLDMAN and NICHOLAS FANDOS\",\"person\":[{\"firstname\":\"Adam\",\"middlename\":null,\"lastname\":\"GOLDMAN\",\"qualifier\":null,\"title\":null,\"role\":\"reported\",\"organization\":\"\",\"rank\":1},{\"firstname\":\"Nicholas\",\"middlename\":null,\"lastname\":\"FANDOS\",\"qualifier\":null,\"title\":null,\"role\":\"reported\",\"organization\":\"\",\"rank\":2}],\"organization\":null},\"score\":0.19954076},{\"headline\":{\"main\":\"GOP Congressman Who Led the Benghazi Probe Will Leave House\",\"kicker\":null,\"content_kicker\":null,\"print_headline\":\"GOP Congressman Who Led the Benghazi Probe Will Leave House\",\"name\":null,\"seo\":null,\"sub\":null},\"pub_date\":\"2018-01-31T17:48:33+0000\",\"byline\":{\"original\":\"By THE ASSOCIATED PRESS\",\"person\":[],\"organization\":\"THE ASSOCIATED PRESS\"},\"score\":0.22039069},{\"headline\":{\"main\":\"From \\xe2\\x80\\x98New American Moment\\xe2\\x80\\x99 to Same Partisan Rancor\",\"kicker\":\"On Washington\",\"content_kicker\":\"On Washington\",\"print_headline\":\"We Now Resume  Regularly Scheduled Programming\",\"name\":null,\"seo\":null,\"sub\":null},\"pub_date\":\"2018-01-31T17:41:06+0000\",\"byline\":{\"original\":\"By CARL HULSE\",\"person\":[{\"firstname\":\"Carl\",\"middlename\":null,\"lastname\":\"HULSE\",\"qualifier\":null,\"title\":null,\"role\":\"reported\",\"organization\":\"\",\"rank\":1}],\"organization\":null},\"score\":0.24642736}],\"meta\":{\"hits\":345,\"offset\":0,\"time\":8}}}'\n"
     ]
    }
   ],
   "source": [
    "# Check the retrieved information\n",
    "# print(response.headers)\n",
    "print(response.content)\n",
    "\n"
   ]
  },
  {
   "cell_type": "markdown",
   "metadata": {
    "slideshow": {
     "slide_type": "slide"
    }
   },
   "source": [
    "# Working With\n",
    "\n",
    "<img src=\"./images/json.png\">"
   ]
  },
  {
   "cell_type": "markdown",
   "metadata": {
    "slideshow": {
     "slide_type": "notes"
    }
   },
   "source": [
    "JSON is a way to encode data structures like lists and dictionaries to strings that ensures that they are easily readable by machines. JSON is the primary format in which data is passed back and forth to APIs, and most API servers will send their responses in JSON format."
   ]
  },
  {
   "cell_type": "markdown",
   "metadata": {
    "slideshow": {
     "slide_type": "notes"
    }
   },
   "source": [
    "Python has great JSON support, with the json package. The json package is part of the standard library, so we don't have to install anything to use it. We can both convert lists and dictionaries to JSON, and convert strings to lists and dictionaries. In the case of our ISS Pass data, it is a dictionary encoded to a string in JSON format."
   ]
  },
  {
   "cell_type": "code",
   "execution_count": 26,
   "metadata": {
    "slideshow": {
     "slide_type": "subslide"
    }
   },
   "outputs": [
    {
     "data": {
      "text/plain": [
       "{'copyright': 'Copyright (c) 2018 The New York Times Company. All Rights Reserved.',\n",
       " 'response': {'docs': [{'byline': {'organization': None,\n",
       "     'original': 'By KAREN ZRAICK and DAVID SCULL',\n",
       "     'person': [{'firstname': 'Karen',\n",
       "       'lastname': 'ZRAICK',\n",
       "       'middlename': None,\n",
       "       'organization': '',\n",
       "       'qualifier': None,\n",
       "       'rank': 1,\n",
       "       'role': 'reported',\n",
       "       'title': None},\n",
       "      {'firstname': 'David',\n",
       "       'lastname': 'SCULL',\n",
       "       'middlename': None,\n",
       "       'organization': '',\n",
       "       'qualifier': None,\n",
       "       'rank': 2,\n",
       "       'role': 'reported',\n",
       "       'title': None}]},\n",
       "    'headline': {'content_kicker': None,\n",
       "     'kicker': None,\n",
       "     'main': 'Trump, Brenda Fitzgerald, Virginia: Your Wednesday Evening Briefing',\n",
       "     'name': None,\n",
       "     'print_headline': 'Your Evening Briefing',\n",
       "     'seo': None,\n",
       "     'sub': None},\n",
       "    'pub_date': '2018-01-31T22:57:59+0000',\n",
       "    'score': 0.10885632},\n",
       "   {'byline': {'organization': 'THE ASSOCIATED PRESS',\n",
       "     'original': 'By THE ASSOCIATED PRESS',\n",
       "     'person': []},\n",
       "    'headline': {'content_kicker': None,\n",
       "     'kicker': None,\n",
       "     'main': \"Syria's Kurds Push US to Stop Turkish Assault on Key Enclave\",\n",
       "     'name': None,\n",
       "     'print_headline': \"Syria's Kurds Push US to Stop Turkish Assault on Key Enclave\",\n",
       "     'seo': None,\n",
       "     'sub': None},\n",
       "    'pub_date': '2018-01-31T22:24:34+0000',\n",
       "    'score': 0.13910355},\n",
       "   {'byline': {'organization': 'REUTERS',\n",
       "     'original': 'By REUTERS',\n",
       "     'person': []},\n",
       "    'headline': {'content_kicker': None,\n",
       "     'kicker': None,\n",
       "     'main': 'Trump Asked No. 2 Justice Department Official Where Russia Probe Was Heading: CNN',\n",
       "     'name': None,\n",
       "     'print_headline': 'Trump Asked No. 2 Justice Department Official Where Russia Probe Was Heading: CNN',\n",
       "     'seo': None,\n",
       "     'sub': None},\n",
       "    'pub_date': '2018-01-31T21:18:38+0000',\n",
       "    'score': 1.1794378},\n",
       "   {'byline': {'organization': 'REUTERS',\n",
       "     'original': 'By REUTERS',\n",
       "     'person': []},\n",
       "    'headline': {'content_kicker': None,\n",
       "     'kicker': None,\n",
       "     'main': \"House Republican Nunes Calls FBI Objections to Memo 'Spurious'\",\n",
       "     'name': None,\n",
       "     'print_headline': \"House Republican Nunes Calls FBI Objections to Memo 'Spurious'\",\n",
       "     'seo': None,\n",
       "     'sub': None},\n",
       "    'pub_date': '2018-01-31T20:33:42+0000',\n",
       "    'score': 0.34922355},\n",
       "   {'byline': {'organization': None,\n",
       "     'original': 'By CHARLES R. KESLER',\n",
       "     'person': [{'firstname': 'Charles',\n",
       "       'lastname': 'KESLER',\n",
       "       'middlename': 'R.',\n",
       "       'organization': '',\n",
       "       'qualifier': None,\n",
       "       'rank': 1,\n",
       "       'role': 'reported',\n",
       "       'title': None}]},\n",
       "    'headline': {'content_kicker': 'Op-Ed Contributor',\n",
       "     'kicker': 'Op-Ed Contributor',\n",
       "     'main': 'Trump’s Debt to Reagan',\n",
       "     'name': None,\n",
       "     'print_headline': 'Trump’s Debt to Reagan',\n",
       "     'seo': None,\n",
       "     'sub': None},\n",
       "    'pub_date': '2018-01-31T19:46:01+0000',\n",
       "    'score': 0.24041903},\n",
       "   {'byline': {'organization': None,\n",
       "     'original': 'By ANNA DUBENKO',\n",
       "     'person': [{'firstname': 'Anna',\n",
       "       'lastname': 'DUBENKO',\n",
       "       'middlename': None,\n",
       "       'organization': '',\n",
       "       'qualifier': None,\n",
       "       'rank': 1,\n",
       "       'role': 'reported',\n",
       "       'title': None}]},\n",
       "    'headline': {'content_kicker': None,\n",
       "     'kicker': None,\n",
       "     'main': 'Right and Left React to Trump’s State of the Union Address',\n",
       "     'name': None,\n",
       "     'print_headline': 'Right and Left React to Trump’s State of the Union Address',\n",
       "     'seo': None,\n",
       "     'sub': None},\n",
       "    'pub_date': '2018-01-31T19:36:48+0000',\n",
       "    'score': 0.19757682},\n",
       "   {'byline': {'organization': None,\n",
       "     'original': 'By MARC STEIN',\n",
       "     'person': [{'firstname': 'Marc',\n",
       "       'lastname': 'STEIN',\n",
       "       'middlename': None,\n",
       "       'organization': '',\n",
       "       'qualifier': None,\n",
       "       'rank': 1,\n",
       "       'role': 'reported',\n",
       "       'title': None}]},\n",
       "    'headline': {'content_kicker': None,\n",
       "     'kicker': None,\n",
       "     'main': 'Geoff Cameron’s Car-Pool Confessional',\n",
       "     'name': None,\n",
       "     'print_headline': 'He Has Words for Bruce Arena',\n",
       "     'seo': None,\n",
       "     'sub': None},\n",
       "    'pub_date': '2018-01-31T19:09:20+0000',\n",
       "    'score': 0.07729989},\n",
       "   {'byline': {'organization': None,\n",
       "     'original': 'By ADAM GOLDMAN and NICHOLAS FANDOS',\n",
       "     'person': [{'firstname': 'Adam',\n",
       "       'lastname': 'GOLDMAN',\n",
       "       'middlename': None,\n",
       "       'organization': '',\n",
       "       'qualifier': None,\n",
       "       'rank': 1,\n",
       "       'role': 'reported',\n",
       "       'title': None},\n",
       "      {'firstname': 'Nicholas',\n",
       "       'lastname': 'FANDOS',\n",
       "       'middlename': None,\n",
       "       'organization': '',\n",
       "       'qualifier': None,\n",
       "       'rank': 2,\n",
       "       'role': 'reported',\n",
       "       'title': None}]},\n",
       "    'headline': {'content_kicker': None,\n",
       "     'kicker': None,\n",
       "     'main': 'F.B.I. Condemns Push to Release Secret Republican Memo',\n",
       "     'name': None,\n",
       "     'print_headline': 'F.B.I. Denounces House G.O.P. Push On Secret Memo',\n",
       "     'seo': None,\n",
       "     'sub': None},\n",
       "    'pub_date': '2018-01-31T18:12:53+0000',\n",
       "    'score': 0.19954076},\n",
       "   {'byline': {'organization': 'THE ASSOCIATED PRESS',\n",
       "     'original': 'By THE ASSOCIATED PRESS',\n",
       "     'person': []},\n",
       "    'headline': {'content_kicker': None,\n",
       "     'kicker': None,\n",
       "     'main': 'GOP Congressman Who Led the Benghazi Probe Will Leave House',\n",
       "     'name': None,\n",
       "     'print_headline': 'GOP Congressman Who Led the Benghazi Probe Will Leave House',\n",
       "     'seo': None,\n",
       "     'sub': None},\n",
       "    'pub_date': '2018-01-31T17:48:33+0000',\n",
       "    'score': 0.22039069},\n",
       "   {'byline': {'organization': None,\n",
       "     'original': 'By CARL HULSE',\n",
       "     'person': [{'firstname': 'Carl',\n",
       "       'lastname': 'HULSE',\n",
       "       'middlename': None,\n",
       "       'organization': '',\n",
       "       'qualifier': None,\n",
       "       'rank': 1,\n",
       "       'role': 'reported',\n",
       "       'title': None}]},\n",
       "    'headline': {'content_kicker': 'On Washington',\n",
       "     'kicker': 'On Washington',\n",
       "     'main': 'From ‘New American Moment’ to Same Partisan Rancor',\n",
       "     'name': None,\n",
       "     'print_headline': 'We Now Resume  Regularly Scheduled Programming',\n",
       "     'seo': None,\n",
       "     'sub': None},\n",
       "    'pub_date': '2018-01-31T17:41:06+0000',\n",
       "    'score': 0.24642736}],\n",
       "  'meta': {'hits': 345, 'offset': 0, 'time': 8}},\n",
       " 'status': 'OK'}"
      ]
     },
     "execution_count": 26,
     "metadata": {},
     "output_type": "execute_result"
    }
   ],
   "source": [
    "# Convert response to JSON\n",
    "data = response.json()\n",
    "data"
   ]
  },
  {
   "cell_type": "code",
   "execution_count": 27,
   "metadata": {
    "slideshow": {
     "slide_type": "subslide"
    }
   },
   "outputs": [
    {
     "data": {
      "text/plain": [
       "{'byline': {'organization': None,\n",
       "  'original': 'By KAREN ZRAICK and DAVID SCULL',\n",
       "  'person': [{'firstname': 'Karen',\n",
       "    'lastname': 'ZRAICK',\n",
       "    'middlename': None,\n",
       "    'organization': '',\n",
       "    'qualifier': None,\n",
       "    'rank': 1,\n",
       "    'role': 'reported',\n",
       "    'title': None},\n",
       "   {'firstname': 'David',\n",
       "    'lastname': 'SCULL',\n",
       "    'middlename': None,\n",
       "    'organization': '',\n",
       "    'qualifier': None,\n",
       "    'rank': 2,\n",
       "    'role': 'reported',\n",
       "    'title': None}]},\n",
       " 'headline': {'content_kicker': None,\n",
       "  'kicker': None,\n",
       "  'main': 'Trump, Brenda Fitzgerald, Virginia: Your Wednesday Evening Briefing',\n",
       "  'name': None,\n",
       "  'print_headline': 'Your Evening Briefing',\n",
       "  'seo': None,\n",
       "  'sub': None},\n",
       " 'pub_date': '2018-01-31T22:57:59+0000',\n",
       " 'score': 0.10885632}"
      ]
     },
     "execution_count": 27,
     "metadata": {},
     "output_type": "execute_result"
    }
   ],
   "source": [
    "# Check the first article\n",
    "data['response']['docs'][0]"
   ]
  },
  {
   "cell_type": "code",
   "execution_count": 30,
   "metadata": {
    "slideshow": {
     "slide_type": "subslide"
    }
   },
   "outputs": [],
   "source": [
    "import json\n",
    "# Save JSON to local drive\n",
    "with open('./local_file_on_my_laptop.json', 'w') as outfile:\n",
    "    json.dump(data, outfile)"
   ]
  },
  {
   "cell_type": "code",
   "execution_count": null,
   "metadata": {},
   "outputs": [],
   "source": [
    "with open('./local_file_on_my_laptop.json.json') as json_data:\n",
    "    d = json.load(json_data)\n",
    "    print(d)"
   ]
  },
  {
   "cell_type": "markdown",
   "metadata": {
    "slideshow": {
     "slide_type": "slide"
    }
   },
   "source": [
    "# JSON to CSV"
   ]
  },
  {
   "cell_type": "code",
   "execution_count": 29,
   "metadata": {
    "slideshow": {
     "slide_type": "subslide"
    }
   },
   "outputs": [
    {
     "data": {
      "text/html": [
       "<div>\n",
       "<table border=\"1\" class=\"dataframe\">\n",
       "  <thead>\n",
       "    <tr style=\"text-align: right;\">\n",
       "      <th></th>\n",
       "      <th>headline</th>\n",
       "      <th>pub_date</th>\n",
       "      <th>byline</th>\n",
       "      <th>score</th>\n",
       "    </tr>\n",
       "  </thead>\n",
       "  <tbody>\n",
       "    <tr>\n",
       "      <th>0</th>\n",
       "      <td>Trump, Brenda Fitzgerald, Virginia: Your Wedne...</td>\n",
       "      <td>2018-01-31T22:57:59+0000</td>\n",
       "      <td>{'original': 'By KAREN ZRAICK and DAVID SCULL'...</td>\n",
       "      <td>0.108856</td>\n",
       "    </tr>\n",
       "    <tr>\n",
       "      <th>1</th>\n",
       "      <td>Syria's Kurds Push US to Stop Turkish Assault ...</td>\n",
       "      <td>2018-01-31T22:24:34+0000</td>\n",
       "      <td>{'original': 'By THE ASSOCIATED PRESS', 'perso...</td>\n",
       "      <td>0.139104</td>\n",
       "    </tr>\n",
       "    <tr>\n",
       "      <th>2</th>\n",
       "      <td>Trump Asked No. 2 Justice Department Official ...</td>\n",
       "      <td>2018-01-31T21:18:38+0000</td>\n",
       "      <td>{'original': 'By REUTERS', 'person': [], 'orga...</td>\n",
       "      <td>1.179438</td>\n",
       "    </tr>\n",
       "    <tr>\n",
       "      <th>3</th>\n",
       "      <td>House Republican Nunes Calls FBI Objections to...</td>\n",
       "      <td>2018-01-31T20:33:42+0000</td>\n",
       "      <td>{'original': 'By REUTERS', 'person': [], 'orga...</td>\n",
       "      <td>0.349224</td>\n",
       "    </tr>\n",
       "    <tr>\n",
       "      <th>4</th>\n",
       "      <td>Trump’s Debt to Reagan</td>\n",
       "      <td>2018-01-31T19:46:01+0000</td>\n",
       "      <td>{'original': 'By CHARLES R. KESLER', 'person':...</td>\n",
       "      <td>0.240419</td>\n",
       "    </tr>\n",
       "  </tbody>\n",
       "</table>\n",
       "</div>"
      ],
      "text/plain": [
       "                                            headline  \\\n",
       "0  Trump, Brenda Fitzgerald, Virginia: Your Wedne...   \n",
       "1  Syria's Kurds Push US to Stop Turkish Assault ...   \n",
       "2  Trump Asked No. 2 Justice Department Official ...   \n",
       "3  House Republican Nunes Calls FBI Objections to...   \n",
       "4                             Trump’s Debt to Reagan   \n",
       "\n",
       "                   pub_date  \\\n",
       "0  2018-01-31T22:57:59+0000   \n",
       "1  2018-01-31T22:24:34+0000   \n",
       "2  2018-01-31T21:18:38+0000   \n",
       "3  2018-01-31T20:33:42+0000   \n",
       "4  2018-01-31T19:46:01+0000   \n",
       "\n",
       "                                              byline     score  \n",
       "0  {'original': 'By KAREN ZRAICK and DAVID SCULL'...  0.108856  \n",
       "1  {'original': 'By THE ASSOCIATED PRESS', 'perso...  0.139104  \n",
       "2  {'original': 'By REUTERS', 'person': [], 'orga...  1.179438  \n",
       "3  {'original': 'By REUTERS', 'person': [], 'orga...  0.349224  \n",
       "4  {'original': 'By CHARLES R. KESLER', 'person':...  0.240419  "
      ]
     },
     "execution_count": 29,
     "metadata": {},
     "output_type": "execute_result"
    }
   ],
   "source": [
    "import pandas as pd\n",
    "\n",
    "def json_to_csv(json_file):\n",
    "    \"\"\" \n",
    "    Function to take json file and return pandas datatable\n",
    "    \"\"\"\n",
    "    # Get the useful part\n",
    "    articles = json_file['response']['docs']\n",
    "\n",
    "    # Find the column titles\n",
    "    cols = list(articles[0].keys())\n",
    "\n",
    "    # Creating new list\n",
    "    row_list = []\n",
    "\n",
    "    # Iterating through all articles and get their respective column value for \n",
    "    for item in articles:\n",
    "        row = []\n",
    "        for col in cols:\n",
    "            if col != 'headline':\n",
    "                row.append(item[col])\n",
    "            else:\n",
    "                row.append(item[col]['main'])\n",
    "        row_list.append(row)\n",
    "\n",
    "    # Creat a dataframe\n",
    "    df = pd.DataFrame(row_list, columns=cols)\n",
    "    \n",
    "    return df\n",
    "\n",
    "\n",
    "df = json_to_csv(data)\n",
    "df.head()"
   ]
  },
  {
   "cell_type": "markdown",
   "metadata": {
    "slideshow": {
     "slide_type": "slide"
    }
   },
   "source": [
    "# Questions?"
   ]
  },
  {
   "cell_type": "markdown",
   "metadata": {
    "slideshow": {
     "slide_type": "slide"
    }
   },
   "source": [
    "# Extra"
   ]
  },
  {
   "cell_type": "markdown",
   "metadata": {},
   "source": [
    "# REST API"
   ]
  },
  {
   "cell_type": "markdown",
   "metadata": {
    "slideshow": {
     "slide_type": "notes"
    }
   },
   "source": [
    "REST (Representational State Transfer) was introduced and defined in 2000 by Roy Fielding in his doctoral dissertation.\n",
    "REST is an architectural style for designing distributed systems. It is not a standard but a set of constraints,\n",
    "such as being stateless, having a client/server relationship, and a uniform interface.\n",
    "\n",
    "APIs are hosted on web servers. When you type www.google.com in your browser's address bar, your computer is actually asking the www.google.com server for a webpage, which it then returns to your browser.\n",
    "\n",
    "APIs work much the same way, except instead of your web browser asking for a webpage, your program asks for data. This data is usually returned in JSON format"
   ]
  },
  {
   "cell_type": "markdown",
   "metadata": {
    "slideshow": {
     "slide_type": "slide"
    }
   },
   "source": [
    "# HTTP Methods\n",
    "\n",
    "## CRUD (create, retrieve, update, delete)"
   ]
  },
  {
   "cell_type": "markdown",
   "metadata": {
    "slideshow": {
     "slide_type": "notes"
    }
   },
   "source": [
    "REST is not strictly related to HTTP, but it is most commonly associated with it.\n",
    "\n",
    "In order to get the data, we make a request to a webserver. The server then replies with our data. In Python, we'll use the requests library to do this. In this Python API tutorial we'll be using Python 3.4 for all of our examples."
   ]
  },
  {
   "cell_type": "markdown",
   "metadata": {
    "slideshow": {
     "slide_type": "subslide"
    }
   },
   "source": [
    "## GET / POST / PUT / PATCH / DELETE"
   ]
  },
  {
   "cell_type": "markdown",
   "metadata": {
    "slideshow": {
     "slide_type": "notes"
    }
   },
   "source": [
    "HTTP methods\n",
    "\n",
    "GET. Retrieve information. ...\n",
    "POST. Request that the resource at the URI do something with the provided entity. ...\n",
    "PUT. Store an entity at a URI. ...\n",
    "PATCH. Update only the specified fields of an entity at a URI. ...\n",
    "DELETE. Request that a resource be removed; however, the resource does not have to be removed immediately.\n",
    "\n",
    "https://spring.io/understanding/REST\n",
    "examples for each methods"
   ]
  }
 ],
 "metadata": {
  "celltoolbar": "Slideshow",
  "kernelspec": {
   "display_name": "Python 3",
   "language": "python",
   "name": "python3"
  },
  "language_info": {
   "codemirror_mode": {
    "name": "ipython",
    "version": 3
   },
   "file_extension": ".py",
   "mimetype": "text/x-python",
   "name": "python",
   "nbconvert_exporter": "python",
   "pygments_lexer": "ipython3",
   "version": "3.6.0"
  }
 },
 "nbformat": 4,
 "nbformat_minor": 2
}
