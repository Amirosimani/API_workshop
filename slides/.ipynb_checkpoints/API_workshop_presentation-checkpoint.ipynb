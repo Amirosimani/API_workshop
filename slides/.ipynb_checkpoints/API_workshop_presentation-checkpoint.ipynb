{
 "cells": [
  {
   "cell_type": "code",
   "execution_count": 1,
   "metadata": {
    "slideshow": {
     "slide_type": "skip"
    }
   },
   "outputs": [],
   "source": [
    "#jupyter nbconvert api_workshop.ipynb --to slides --post serve"
   ]
  },
  {
   "cell_type": "markdown",
   "metadata": {
    "slideshow": {
     "slide_type": "slide"
    }
   },
   "source": [
    "# Working with Open Data - Intro to APIs\n",
    "\n",
    "\n",
    "### http://bit.ly/2nMa0Pn\n",
    "\n",
    "\n",
    "\n",
    "<br/>\n",
    "<br/>\n",
    "\n",
    "### Amir Imani / @amiros_imani"
   ]
  },
  {
   "cell_type": "markdown",
   "metadata": {
    "slideshow": {
     "slide_type": "slide"
    }
   },
   "source": [
    "## What is API?\n",
    "\n",
    "<img src=\"../images/api-explained.png\">\n",
    "\n",
    "source: https://www.humcommerce.com"
   ]
  },
  {
   "cell_type": "markdown",
   "metadata": {
    "slideshow": {
     "slide_type": "notes"
    }
   },
   "source": [
    "Application Program Interfaces, or APIs, are commonly used to retrieve data from remote websites. Sites like Twitter, and Facebook  offer certain data through their APIs. To use an API, you make a request to a remote web server, and retrieve the data you need.\n",
    "\n",
    "+++++++++++++++++++++++++++++++++++++++++++++++++++\n",
    "\n",
    "An API, or Application Program Interface, makes it easy for developers to integrate one app with another. \n",
    "They expose some of a program's inner workings in a limited way.\n",
    "\n",
    "You can use APIs to get information from other programs or to automate things you normally do in your web browser. Sometimes you can use APIs to do things you just can't do any other way.\n",
    "\n",
    "you're comfortable with Python's syntax, structure, and some built-in functions."
   ]
  },
  {
   "cell_type": "markdown",
   "metadata": {
    "slideshow": {
     "slide_type": "slide"
    }
   },
   "source": [
    "# Why API matters?"
   ]
  },
  {
   "cell_type": "markdown",
   "metadata": {
    "slideshow": {
     "slide_type": "subslide"
    }
   },
   "source": [
    "- The data is changing quickly.\n",
    "\n",
    "- You want a small piece of a much larger set of data.\n",
    "\n",
    "- There is repeated computation involved. "
   ]
  },
  {
   "cell_type": "markdown",
   "metadata": {
    "slideshow": {
     "slide_type": "notes"
    }
   },
   "source": [
    "- An example of this is stock price data. It doesn't really make sense to regenerate a dataset and download it every minute -- this will take a lot of bandwidth, and be pretty slow.\n",
    "\n",
    "- Reddit comments are one example. What if you want to just pull your own comments on Reddit? It doesn't make much sense to download the entire Reddit database, then filter just your own comments.\n",
    "\n",
    "- Spotify has an API that can tell you the genre of a piece of music. You could theoretically create your own classifier, and use it to categorize music, but you'll never have as much data as Spotify does."
   ]
  },
  {
   "cell_type": "markdown",
   "metadata": {
    "slideshow": {
     "slide_type": "slide"
    }
   },
   "source": [
    "<img src=\"../images/nyt.png\">\n",
    "\n",
    "<br/>\n",
    "\n",
    "\n",
    "Request a key from https://developer.nytimes.com"
   ]
  },
  {
   "cell_type": "markdown",
   "metadata": {
    "slideshow": {
     "slide_type": "slide"
    }
   },
   "source": [
    "# API Requests"
   ]
  },
  {
   "cell_type": "markdown",
   "metadata": {
    "slideshow": {
     "slide_type": "notes"
    }
   },
   "source": [
    "APIs are hosted on web servers. When you type www.google.com in your browser's address bar, your computer is actually asking the www.google.com server for a webpage, which it then returns to your browser.\n",
    "\n",
    "APIs work much the same way, except instead of your web browser asking for a webpage, your program asks for data. This data is usually returned in JSON format.\n",
    "\n",
    "In order to get the data, we make a request to a webserver. The server then replies with our data. In Python, we'll use the requests library to do this.\n",
    "\n",
    "There are many different types of requests. The most commonly used one, a GET request, is used to retrieve data.\n",
    "\n",
    "We can use a simple GET request to retrieve information fomr API\n"
   ]
  },
  {
   "cell_type": "markdown",
   "metadata": {
    "slideshow": {
     "slide_type": "slide"
    }
   },
   "source": [
    "#  Main Questions to Ask\n",
    "\n",
    "- What does a request look like? \n",
    "- What does a response look like? \n",
    "- What goes into the request or response headers? *"
   ]
  },
  {
   "cell_type": "markdown",
   "metadata": {
    "slideshow": {
     "slide_type": "subslide"
    }
   },
   "source": [
    "<img src=\"../images/status_codes.jpg\">"
   ]
  },
  {
   "cell_type": "markdown",
   "metadata": {
    "slideshow": {
     "slide_type": "notes"
    }
   },
   "source": [
    "The 200 series means \"success\" — your request was valid, and the response is what logically follows from it.\n",
    "The 400 series means \"bad request — something was wrong with the request, so the server did not process it as you wanted it to. Common causes for HTTP 400-level errors are badly-formatted requests and authentication problems.\n",
    "The 500 series means \"server error\" — your request may have been OK, but the server couldn't give you a good response right now for reasons out of your control. These should be rare, but you need to be aware of the possibility so you can handle them in your code."
   ]
  },
  {
   "cell_type": "markdown",
   "metadata": {
    "slideshow": {
     "slide_type": "notes"
    }
   },
   "source": [
    "\n",
    "200 -- everything went okay, and the result has been returned (if any)\n",
    "\n",
    "301 -- the server is redirecting you to a different endpoint. This can happen when a company switches domain names, or an endpoint name is changed.\n",
    "\n",
    "401 -- the server thinks you're not authenticated. This happens when you don't send the right credentials to access an API (we'll talk about authentication in a later post).\n",
    "\n",
    "400 -- the server thinks you made a bad request. This can happen when you don't send along the right data, among other things.\n",
    "\n",
    "403 -- the resource you're trying to access is forbidden -- you don't have the right permissions to see it.\n",
    "\n",
    "404 -- the resource you tried to access wasn't found on the server.§"
   ]
  },
  {
   "cell_type": "markdown",
   "metadata": {
    "slideshow": {
     "slide_type": "slide"
    }
   },
   "source": [
    "# Query Parameters\n",
    "\n",
    "\n",
    "\n",
    "\n",
    "\n",
    "Availble at API Documentation: http://nyti.ms/2EcCiNc"
   ]
  },
  {
   "cell_type": "markdown",
   "metadata": {
    "slideshow": {
     "slide_type": "slide"
    }
   },
   "source": [
    "#  Main Questions to Ask\n",
    "\n",
    "- What does a request look like? \n",
    "- What does a response look like? \n",
    "- What goes into the request or response headers? *"
   ]
  },
  {
   "cell_type": "markdown",
   "metadata": {
    "slideshow": {
     "slide_type": "slide"
    }
   },
   "source": [
    "# Working With\n",
    "\n",
    "<img src=\"../images/json.png\">"
   ]
  },
  {
   "cell_type": "markdown",
   "metadata": {
    "slideshow": {
     "slide_type": "notes"
    }
   },
   "source": [
    "JSON is a way to encode data structures like lists and dictionaries to strings that ensures that they are easily readable by machines. JSON is the primary format in which data is passed back and forth to APIs, and most API servers will send their responses in JSON format."
   ]
  },
  {
   "cell_type": "markdown",
   "metadata": {
    "slideshow": {
     "slide_type": "notes"
    }
   },
   "source": [
    "Python has great JSON support, with the json package. The json package is part of the standard library, so we don't have to install anything to use it. We can both convert lists and dictionaries to JSON, and convert strings to lists and dictionaries. In the case of our ISS Pass data, it is a dictionary encoded to a string in JSON format."
   ]
  },
  {
   "cell_type": "markdown",
   "metadata": {
    "slideshow": {
     "slide_type": "slide"
    }
   },
   "source": [
    "# Questions?"
   ]
  },
  {
   "cell_type": "markdown",
   "metadata": {
    "slideshow": {
     "slide_type": "slide"
    }
   },
   "source": [
    "# Extra"
   ]
  },
  {
   "cell_type": "markdown",
   "metadata": {},
   "source": [
    "# REST API"
   ]
  },
  {
   "cell_type": "markdown",
   "metadata": {
    "slideshow": {
     "slide_type": "notes"
    }
   },
   "source": [
    "REST (Representational State Transfer) was introduced and defined in 2000 by Roy Fielding in his doctoral dissertation.\n",
    "REST is an architectural style for designing distributed systems. It is not a standard but a set of constraints,\n",
    "such as being stateless, having a client/server relationship, and a uniform interface.\n",
    "\n",
    "APIs are hosted on web servers. When you type www.google.com in your browser's address bar, your computer is actually asking the www.google.com server for a webpage, which it then returns to your browser.\n",
    "\n",
    "APIs work much the same way, except instead of your web browser asking for a webpage, your program asks for data. This data is usually returned in JSON format"
   ]
  },
  {
   "cell_type": "markdown",
   "metadata": {
    "slideshow": {
     "slide_type": "slide"
    }
   },
   "source": [
    "# HTTP Methods\n",
    "\n",
    "## CRUD (create, retrieve, update, delete)"
   ]
  },
  {
   "cell_type": "markdown",
   "metadata": {
    "slideshow": {
     "slide_type": "notes"
    }
   },
   "source": [
    "REST is not strictly related to HTTP, but it is most commonly associated with it.\n",
    "\n",
    "In order to get the data, we make a request to a webserver. The server then replies with our data. In Python, we'll use the requests library to do this. In this Python API tutorial we'll be using Python 3.4 for all of our examples."
   ]
  },
  {
   "cell_type": "markdown",
   "metadata": {
    "slideshow": {
     "slide_type": "subslide"
    }
   },
   "source": [
    "## GET / POST / PUT / PATCH / DELETE"
   ]
  },
  {
   "cell_type": "markdown",
   "metadata": {
    "slideshow": {
     "slide_type": "notes"
    }
   },
   "source": [
    "HTTP methods\n",
    "\n",
    "GET. Retrieve information. ...\n",
    "POST. Request that the resource at the URI do something with the provided entity. ...\n",
    "PUT. Store an entity at a URI. ...\n",
    "PATCH. Update only the specified fields of an entity at a URI. ...\n",
    "DELETE. Request that a resource be removed; however, the resource does not have to be removed immediately.\n",
    "\n",
    "https://spring.io/understanding/REST\n",
    "examples for each methods"
   ]
  }
 ],
 "metadata": {
  "celltoolbar": "Slideshow",
  "kernelspec": {
   "display_name": "Python 3",
   "language": "python",
   "name": "python3"
  },
  "language_info": {
   "codemirror_mode": {
    "name": "ipython",
    "version": 3
   },
   "file_extension": ".py",
   "mimetype": "text/x-python",
   "name": "python",
   "nbconvert_exporter": "python",
   "pygments_lexer": "ipython3",
   "version": "3.7.7"
  }
 },
 "nbformat": 4,
 "nbformat_minor": 2
}
